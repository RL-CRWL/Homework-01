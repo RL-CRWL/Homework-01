{
 "cells": [
  {
   "cell_type": "code",
   "execution_count": 1,
   "id": "a770ced6",
   "metadata": {},
   "outputs": [],
   "source": [
    "import numpy as np"
   ]
  },
  {
   "cell_type": "code",
   "execution_count": 148,
   "id": "433da119",
   "metadata": {},
   "outputs": [],
   "source": [
    "class Arm:\n",
    "    mean = 0\n",
    "    std_dev = 0\n",
    "    \n",
    "    def __init__(self, mean_arg=0, std_dev_arg=3**0.5):\n",
    "        self.mean = np.random.normal(loc=mean_arg, scale=std_dev_arg, size=1)\n",
    "        self.std_dev = 1\n",
    "        \n",
    "    def get_reward(self):\n",
    "        return np.random.normal(loc=self.mean, scale=self.std_dev, size=1)"
   ]
  },
  {
   "cell_type": "code",
   "execution_count": 149,
   "id": "023f3cf4",
   "metadata": {},
   "outputs": [],
   "source": [
    "arm1 = Arm()"
   ]
  },
  {
   "cell_type": "code",
   "execution_count": 202,
   "id": "5590404b",
   "metadata": {},
   "outputs": [
    {
     "name": "stdout",
     "output_type": "stream",
     "text": [
      "[1.91072958]\n"
     ]
    }
   ],
   "source": [
    "print(arm1.get_reward())"
   ]
  },
  {
   "cell_type": "code",
   "execution_count": null,
   "id": "f871e4fd",
   "metadata": {},
   "outputs": [],
   "source": [
    "class Bandit():\n",
    "    count = 0\n",
    "    "
   ]
  }
 ],
 "metadata": {
  "kernelspec": {
   "display_name": "venv",
   "language": "python",
   "name": "python3"
  },
  "language_info": {
   "codemirror_mode": {
    "name": "ipython",
    "version": 3
   },
   "file_extension": ".py",
   "mimetype": "text/x-python",
   "name": "python",
   "nbconvert_exporter": "python",
   "pygments_lexer": "ipython3",
   "version": "3.12.3"
  }
 },
 "nbformat": 4,
 "nbformat_minor": 5
}
